{
 "cells": [
  {
   "cell_type": "markdown",
   "id": "6e602357",
   "metadata": {},
   "source": [
    "## 1. Importing Libraries"
   ]
  },
  {
   "cell_type": "code",
   "execution_count": 3,
   "id": "f39aed0a",
   "metadata": {},
   "outputs": [],
   "source": [
    "# Import Libraries\n",
    "import pandas as pd\n",
    "import numpy as np\n",
    "import os"
   ]
  },
  {
   "cell_type": "markdown",
   "id": "f3eaf4cf",
   "metadata": {},
   "source": [
    "## 2. Python Data Types"
   ]
  },
  {
   "cell_type": "markdown",
   "id": "96956842",
   "metadata": {},
   "source": [
    "Question 7: Three Paths to 100\n",
    "\n"
   ]
  },
  {
   "cell_type": "code",
   "execution_count": 38,
   "id": "5898ad47",
   "metadata": {},
   "outputs": [],
   "source": [
    "a = 25\n",
    "b = 50\n",
    "c = 150"
   ]
  },
  {
   "cell_type": "code",
   "execution_count": 39,
   "id": "baff54ee",
   "metadata": {},
   "outputs": [
    {
     "data": {
      "text/plain": [
       "100"
      ]
     },
     "execution_count": 39,
     "metadata": {},
     "output_type": "execute_result"
    }
   ],
   "source": [
    "# Path 1\n",
    "b+b"
   ]
  },
  {
   "cell_type": "code",
   "execution_count": 34,
   "id": "930bccb7",
   "metadata": {},
   "outputs": [
    {
     "data": {
      "text/plain": [
       "100"
      ]
     },
     "execution_count": 34,
     "metadata": {},
     "output_type": "execute_result"
    }
   ],
   "source": [
    "# Path 2\n",
    "c-b"
   ]
  },
  {
   "cell_type": "code",
   "execution_count": 36,
   "id": "bf59c04a",
   "metadata": {},
   "outputs": [
    {
     "data": {
      "text/plain": [
       "100"
      ]
     },
     "execution_count": 36,
     "metadata": {},
     "output_type": "execute_result"
    }
   ],
   "source": [
    "# Path 3\n",
    "b+a+a"
   ]
  },
  {
   "cell_type": "markdown",
   "id": "4aa90a15",
   "metadata": {},
   "source": [
    "Question 8: Code two floating-point variables and divide them by each other\n"
   ]
  },
  {
   "cell_type": "code",
   "execution_count": 40,
   "id": "f6cc0f9b",
   "metadata": {},
   "outputs": [
    {
     "data": {
      "text/plain": [
       "0.8101480950717791"
      ]
     },
     "execution_count": 40,
     "metadata": {},
     "output_type": "execute_result"
    }
   ],
   "source": [
    "d = 4.5\n",
    "e = 5.55454\n",
    "\n",
    "d/e"
   ]
  },
  {
   "cell_type": "markdown",
   "id": "8a801de8",
   "metadata": {},
   "source": [
    "Question 9: Construct a short word made of separate strings"
   ]
  },
  {
   "cell_type": "code",
   "execution_count": 41,
   "id": "7983ddf2",
   "metadata": {},
   "outputs": [
    {
     "data": {
      "text/plain": [
       "'CareerFoundry'"
      ]
     },
     "execution_count": 41,
     "metadata": {},
     "output_type": "execute_result"
    }
   ],
   "source": [
    "f = 'Career'\n",
    "g ='Foundry'\n",
    "f+g"
   ]
  },
  {
   "cell_type": "markdown",
   "id": "49880137",
   "metadata": {},
   "source": [
    "Questions 10: Construct two short sentences made of separate strings"
   ]
  },
  {
   "cell_type": "code",
   "execution_count": 65,
   "id": "d0a4f51c",
   "metadata": {},
   "outputs": [],
   "source": [
    "h = 'She '\n",
    "i = 'sells seashells by the seashore'\n",
    "j = 'and he '\n",
    "k = 'sell seashells by the seashore'\n",
    "l = '. '"
   ]
  },
  {
   "cell_type": "code",
   "execution_count": 58,
   "id": "94e15d6a",
   "metadata": {},
   "outputs": [
    {
     "data": {
      "text/plain": [
       "'She sells seashells by the seashore'"
      ]
     },
     "execution_count": 58,
     "metadata": {},
     "output_type": "execute_result"
    }
   ],
   "source": [
    "h + i"
   ]
  },
  {
   "cell_type": "code",
   "execution_count": 61,
   "id": "75bdeefe",
   "metadata": {},
   "outputs": [
    {
     "data": {
      "text/plain": [
       "'She and he sell seashells by the seashore'"
      ]
     },
     "execution_count": 61,
     "metadata": {},
     "output_type": "execute_result"
    }
   ],
   "source": [
    "h + j + k"
   ]
  },
  {
   "cell_type": "markdown",
   "id": "6ad7a40f",
   "metadata": {},
   "source": [
    "Bonus Task Attempt: Write a command that makes a string appear 100 times"
   ]
  },
  {
   "cell_type": "code",
   "execution_count": 66,
   "id": "09fa989f",
   "metadata": {},
   "outputs": [
    {
     "data": {
      "text/plain": [
       "'She sells seashells by the seashore. She sells seashells by the seashore. She sells seashells by the seashore. She sells seashells by the seashore. She sells seashells by the seashore. She sells seashells by the seashore. She sells seashells by the seashore. She sells seashells by the seashore. She sells seashells by the seashore. She sells seashells by the seashore. She sells seashells by the seashore. She sells seashells by the seashore. She sells seashells by the seashore. She sells seashells by the seashore. She sells seashells by the seashore. She sells seashells by the seashore. She sells seashells by the seashore. She sells seashells by the seashore. She sells seashells by the seashore. She sells seashells by the seashore. She sells seashells by the seashore. She sells seashells by the seashore. She sells seashells by the seashore. She sells seashells by the seashore. She sells seashells by the seashore. She sells seashells by the seashore. She sells seashells by the seashore. She sells seashells by the seashore. She sells seashells by the seashore. She sells seashells by the seashore. She sells seashells by the seashore. She sells seashells by the seashore. She sells seashells by the seashore. She sells seashells by the seashore. She sells seashells by the seashore. She sells seashells by the seashore. She sells seashells by the seashore. She sells seashells by the seashore. She sells seashells by the seashore. She sells seashells by the seashore. She sells seashells by the seashore. She sells seashells by the seashore. She sells seashells by the seashore. She sells seashells by the seashore. She sells seashells by the seashore. She sells seashells by the seashore. She sells seashells by the seashore. She sells seashells by the seashore. She sells seashells by the seashore. She sells seashells by the seashore. She sells seashells by the seashore. She sells seashells by the seashore. She sells seashells by the seashore. She sells seashells by the seashore. She sells seashells by the seashore. She sells seashells by the seashore. She sells seashells by the seashore. She sells seashells by the seashore. She sells seashells by the seashore. She sells seashells by the seashore. She sells seashells by the seashore. She sells seashells by the seashore. She sells seashells by the seashore. She sells seashells by the seashore. She sells seashells by the seashore. She sells seashells by the seashore. She sells seashells by the seashore. She sells seashells by the seashore. She sells seashells by the seashore. She sells seashells by the seashore. She sells seashells by the seashore. She sells seashells by the seashore. She sells seashells by the seashore. She sells seashells by the seashore. She sells seashells by the seashore. She sells seashells by the seashore. She sells seashells by the seashore. She sells seashells by the seashore. She sells seashells by the seashore. She sells seashells by the seashore. She sells seashells by the seashore. She sells seashells by the seashore. She sells seashells by the seashore. She sells seashells by the seashore. She sells seashells by the seashore. She sells seashells by the seashore. She sells seashells by the seashore. She sells seashells by the seashore. She sells seashells by the seashore. She sells seashells by the seashore. She sells seashells by the seashore. She sells seashells by the seashore. She sells seashells by the seashore. She sells seashells by the seashore. She sells seashells by the seashore. She sells seashells by the seashore. She sells seashells by the seashore. She sells seashells by the seashore. She sells seashells by the seashore. She sells seashells by the seashore. '"
      ]
     },
     "execution_count": 66,
     "metadata": {},
     "output_type": "execute_result"
    }
   ],
   "source": [
    "(h + i + l) * 100"
   ]
  },
  {
   "cell_type": "code",
   "execution_count": null,
   "id": "a00853a6",
   "metadata": {},
   "outputs": [],
   "source": []
  }
 ],
 "metadata": {
  "kernelspec": {
   "display_name": "Python 3 (ipykernel)",
   "language": "python",
   "name": "python3"
  },
  "language_info": {
   "codemirror_mode": {
    "name": "ipython",
    "version": 3
   },
   "file_extension": ".py",
   "mimetype": "text/x-python",
   "name": "python",
   "nbconvert_exporter": "python",
   "pygments_lexer": "ipython3",
   "version": "3.11.5"
  }
 },
 "nbformat": 4,
 "nbformat_minor": 5
}
